{
 "cells": [
  {
   "cell_type": "code",
   "execution_count": 139,
   "metadata": {},
   "outputs": [],
   "source": [
    "import pptx"
   ]
  },
  {
   "cell_type": "markdown",
   "metadata": {},
   "source": [
    "An instance of `Presentation` has the attributes `slide_master` and `slide_masters`. A `pptx.slide.SlideMaster` inherits from `pptx.slide._BaseMaster` and therefore works similar to a normal slide. It has an iterable `shapes` that contains all the used elements."
   ]
  },
  {
   "cell_type": "code",
   "execution_count": 140,
   "metadata": {},
   "outputs": [
    {
     "name": "stdout",
     "output_type": "stream",
     "text": [
      "<class 'pptx.slide.SlideMaster'>\n"
     ]
    }
   ],
   "source": [
    "prs = pptx.Presentation(\"../data/example03_master.pptx\")\n",
    "slide1, slide2, slide3 = list(prs.slides)\n",
    "master = prs.slide_master\n",
    "print(type(master))\n",
    "master_ph1, master_ph2, master_ph3 = master.shapes"
   ]
  },
  {
   "cell_type": "markdown",
   "metadata": {},
   "source": [
    "The `slide_masters` attribute points to an iterable of the type `pptx.slide.SlideMasters` that contains all used slide masters. At our example file `prs.slide_master == prs.slide_masters[0]`."
   ]
  },
  {
   "cell_type": "code",
   "execution_count": 141,
   "metadata": {},
   "outputs": [
    {
     "name": "stdout",
     "output_type": "stream",
     "text": [
      "<class 'pptx.slide.SlideMasters'>\n"
     ]
    },
    {
     "data": {
      "text/plain": [
       "True"
      ]
     },
     "execution_count": 141,
     "metadata": {},
     "output_type": "execute_result"
    }
   ],
   "source": [
    "print(type(prs.slide_masters))\n",
    "prs.slide_master == prs.slide_masters[0]"
   ]
  },
  {
   "cell_type": "code",
   "execution_count": 142,
   "metadata": {},
   "outputs": [
    {
     "data": {
      "text/plain": [
       "['__class__',\n",
       " '__delattr__',\n",
       " '__dir__',\n",
       " '__doc__',\n",
       " '__eq__',\n",
       " '__format__',\n",
       " '__ge__',\n",
       " '__getattribute__',\n",
       " '__gt__',\n",
       " '__hash__',\n",
       " '__init__',\n",
       " '__init_subclass__',\n",
       " '__le__',\n",
       " '__lt__',\n",
       " '__module__',\n",
       " '__ne__',\n",
       " '__new__',\n",
       " '__reduce__',\n",
       " '__reduce_ex__',\n",
       " '__repr__',\n",
       " '__setattr__',\n",
       " '__sizeof__',\n",
       " '__slots__',\n",
       " '__str__',\n",
       " '__subclasshook__',\n",
       " '_background',\n",
       " '_element',\n",
       " '_part',\n",
       " '_placeholders',\n",
       " '_shapes',\n",
       " '_slide_layouts',\n",
       " 'background',\n",
       " 'element',\n",
       " 'name',\n",
       " 'part',\n",
       " 'placeholders',\n",
       " 'shapes',\n",
       " 'slide_layouts']"
      ]
     },
     "execution_count": 142,
     "metadata": {},
     "output_type": "execute_result"
    }
   ],
   "source": [
    "dir(master)"
   ]
  },
  {
   "cell_type": "markdown",
   "metadata": {},
   "source": [
    "A `shape` at the `master_slide` is a normal shape and can be modified the way we already know. The change will affect all slides that use the same master."
   ]
  },
  {
   "cell_type": "code",
   "execution_count": 143,
   "metadata": {},
   "outputs": [
    {
     "name": "stdout",
     "output_type": "stream",
     "text": [
      "<pptx.shapes.autoshape.Shape object at 0x05966A70>\n",
      "PyConDE 2019\n",
      "This is PyConDE 2019\n"
     ]
    }
   ],
   "source": [
    "print(master_ph3)\n",
    "print(master_ph3.text)\n",
    "\n",
    "master_ph3.text = \"This is PyConDE 2019\"\n",
    "print(master_ph3.text)"
   ]
  },
  {
   "cell_type": "code",
   "execution_count": 144,
   "metadata": {},
   "outputs": [
    {
     "data": {
      "text/plain": [
       "['__class__',\n",
       " '__delattr__',\n",
       " '__dir__',\n",
       " '__doc__',\n",
       " '__eq__',\n",
       " '__format__',\n",
       " '__ge__',\n",
       " '__getattribute__',\n",
       " '__gt__',\n",
       " '__hash__',\n",
       " '__init__',\n",
       " '__init_subclass__',\n",
       " '__le__',\n",
       " '__lt__',\n",
       " '__module__',\n",
       " '__ne__',\n",
       " '__new__',\n",
       " '__reduce__',\n",
       " '__reduce_ex__',\n",
       " '__repr__',\n",
       " '__setattr__',\n",
       " '__sizeof__',\n",
       " '__slots__',\n",
       " '__str__',\n",
       " '__subclasshook__',\n",
       " '_background',\n",
       " '_element',\n",
       " '_part',\n",
       " '_placeholders',\n",
       " '_shapes',\n",
       " 'background',\n",
       " 'element',\n",
       " 'iter_cloneable_placeholders',\n",
       " 'name',\n",
       " 'part',\n",
       " 'placeholders',\n",
       " 'shapes',\n",
       " 'slide_master',\n",
       " 'used_by_slides']"
      ]
     },
     "execution_count": 144,
     "metadata": {},
     "output_type": "execute_result"
    }
   ],
   "source": [
    "dir(slide3.slide_layout)"
   ]
  },
  {
   "cell_type": "code",
   "execution_count": 145,
   "metadata": {},
   "outputs": [
    {
     "name": "stdout",
     "output_type": "stream",
     "text": [
      "1. Blank Slide\n",
      "2. Title Slide\n",
      "3. Title, Content\n",
      "4. Title, 2 Content\n",
      "5. Title Only\n",
      "The 5. layout (idx=4) is used at 'slide3'.\n",
      "6. Centered Text\n",
      "7. Title, 2 Content and Content\n",
      "8. Title Content and 2 Content\n",
      "9. Title, 2 Content over Content\n",
      "10. Title, Content over Content\n",
      "11. Title, 4 Content\n",
      "12. Title, 6 Content\n"
     ]
    }
   ],
   "source": [
    "list(prs.slide_layouts)\n",
    "for idx, layout in enumerate(prs.slide_layouts):\n",
    "    print(f\"{idx + 1}. {layout.name}\")\n",
    "    if layout.name == slide3.slide_layout.name:\n",
    "        used_layout_idx = idx\n",
    "        print(f\"The {idx + 1}. layout (idx={idx}) is used at 'slide3'.\")"
   ]
  },
  {
   "cell_type": "code",
   "execution_count": 146,
   "metadata": {},
   "outputs": [
    {
     "name": "stdout",
     "output_type": "stream",
     "text": [
      "Master used at slide 3:\n",
      "<pptx.slide.SlideMaster object at 0x068CACC0>\n",
      "Masters of the presentation:\n",
      "<pptx.slide.SlideMaster object at 0x048E4060>\n",
      "<pptx.slide.SlideMaster object at 0x068CACC0>\n",
      "Masters of the layouts:\n",
      "<pptx.slide.SlideMaster object at 0x048E4060>\n",
      "<pptx.slide.SlideMaster object at 0x048E4060>\n",
      "<pptx.slide.SlideMaster object at 0x048E4060>\n",
      "<pptx.slide.SlideMaster object at 0x048E4060>\n",
      "<pptx.slide.SlideMaster object at 0x048E4060>\n",
      "<pptx.slide.SlideMaster object at 0x048E4060>\n",
      "<pptx.slide.SlideMaster object at 0x048E4060>\n",
      "<pptx.slide.SlideMaster object at 0x048E4060>\n",
      "<pptx.slide.SlideMaster object at 0x048E4060>\n",
      "<pptx.slide.SlideMaster object at 0x048E4060>\n",
      "<pptx.slide.SlideMaster object at 0x048E4060>\n",
      "<pptx.slide.SlideMaster object at 0x048E4060>\n"
     ]
    }
   ],
   "source": [
    "print(\"Master used at slide 3:\")\n",
    "print(slide3.slide_layout.slide_master)\n",
    "print(\"Masters of the presentation:\")\n",
    "for slide_master in prs.slide_masters:\n",
    "    print(slide_master)\n",
    "print(\"Masters of the layouts:\")\n",
    "for layout in prs.slide_layouts:\n",
    "    print(layout.slide_master)"
   ]
  },
  {
   "cell_type": "markdown",
   "metadata": {},
   "source": [
    "Creating a new slide with the layout of a slide that has a master will apply the same master to the new slide."
   ]
  },
  {
   "cell_type": "code",
   "execution_count": 147,
   "metadata": {},
   "outputs": [
    {
     "name": "stdout",
     "output_type": "stream",
     "text": [
      "Title Only\n"
     ]
    }
   ],
   "source": [
    "print(slide3.slide_layout.name)\n",
    "slide4 = prs.slides.add_slide(slide3.slide_layout)"
   ]
  },
  {
   "cell_type": "markdown",
   "metadata": {},
   "source": [
    "Creating a new slide with one of the presentations layouts will apply the first master to the new slide. We have seen before that all layouts use the first master."
   ]
  },
  {
   "cell_type": "code",
   "execution_count": 148,
   "metadata": {},
   "outputs": [
    {
     "name": "stdout",
     "output_type": "stream",
     "text": [
      "Title Only\n"
     ]
    }
   ],
   "source": [
    "print(prs.slide_layouts[used_layout_idx].name)\n",
    "slide5 = prs.slides.add_slide(prs.slide_layouts[used_layout_idx])"
   ]
  },
  {
   "cell_type": "markdown",
   "metadata": {},
   "source": [
    "Changing the master of an existing slide is not possible."
   ]
  },
  {
   "cell_type": "code",
   "execution_count": 149,
   "metadata": {},
   "outputs": [
    {
     "name": "stdout",
     "output_type": "stream",
     "text": [
      "We failed to set a new slide_master.\n"
     ]
    }
   ],
   "source": [
    "try:\n",
    "    slide3.slide_layout.slide_master = slide_master\n",
    "except AttributeError:\n",
    "    print(\"We failed to set a new slide_master.\")"
   ]
  },
  {
   "cell_type": "code",
   "execution_count": 150,
   "metadata": {},
   "outputs": [],
   "source": [
    "prs.save(\"example03_master.pptx\")"
   ]
  }
 ],
 "metadata": {
  "kernelspec": {
   "display_name": "Python 3",
   "language": "python",
   "name": "python3"
  },
  "language_info": {
   "codemirror_mode": {
    "name": "ipython",
    "version": 3
   },
   "file_extension": ".py",
   "mimetype": "text/x-python",
   "name": "python",
   "nbconvert_exporter": "python",
   "pygments_lexer": "ipython3",
   "version": "3.7.1"
  }
 },
 "nbformat": 4,
 "nbformat_minor": 2
}
